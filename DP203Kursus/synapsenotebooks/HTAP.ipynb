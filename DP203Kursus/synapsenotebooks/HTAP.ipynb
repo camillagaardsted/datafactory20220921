{
  "description": null,
  "sessionProperties": {
    "driverMemory": "28g",
    "driverCores": 4,
    "executorMemory": "28g",
    "executorCores": 4,
    "numExecutors": 2
  },
  "metadata": {
    "kernelspec": {
      "name": "synapse_pyspark",
      "display_name": "Synapse PySpark"
    },
    "language_info": {
      "name": "python",
      "codemirror_mode": null
    },
    "a365ComputeOptions": {
      "id": "/subscriptions/64e64ad4-c73a-4e76-932e-45cba3506c45/resourceGroups/dk/providers/Microsoft.Synapse/workspaces/synapse20220920/bigDataPools/mysparkpool",
      "name": "mysparkpool",
      "type": "Spark",
      "endpoint": "https://synapse20220920.dev.azuresynapse.net/livyApi/versions/2019-11-01-preview/sparkPools/mysparkpool",
      "auth": {
        "type": "AAD",
        "authResource": "https://dev.azuresynapse.net",
        "authHeader": null
      },
      "sparkVersion": "3.2",
      "nodeCount": 10,
      "cores": 4,
      "memory": 28,
      "extraHeader": null
    },
    "sessionKeepAliveTimeout": 30,
    "saveOutput": true,
    "synapse_widget": {
      "version": "0.1",
      "state": {
        "ece4f043-bde7-48b0-b599-1ba2c65525c9": {
          "type": "Synapse.DataFrame",
          "sync_state": {
            "table": {
              "rows": [
                {
                  "0": "EbwRANPo4RoQAAAAAAAAAA==",
                  "1": "1663853285",
                  "2": "1984",
                  "3": "2022-09-22T15:28:05",
                  "4": "47.533321380615234",
                  "5": "44.733333587646484",
                  "6": "24.657657623291016",
                  "7": "1013.061279296875",
                  "8": "\"02004ec6-0000-0d00-0000-632c62e50000\""
                },
                {
                  "0": "EbwRANPo4RoRAAAAAAAAAA==",
                  "1": "1663853287",
                  "2": "1984",
                  "3": "2022-09-22T15:28:07",
                  "4": "47.64598846435547",
                  "5": "44.72708511352539",
                  "6": "24.806852340698242",
                  "7": "1013.078125",
                  "8": "\"02004fc6-0000-0d00-0000-632c62e70000\""
                },
                {
                  "0": "EbwRANPo4RoSAAAAAAAAAA==",
                  "1": "1663853289",
                  "2": "1984",
                  "3": "2022-09-22T15:28:09",
                  "4": "47.51454162597656",
                  "5": "44.72083282470703",
                  "6": "24.521162033081055",
                  "7": "1013.060791015625",
                  "8": "\"020050c6-0000-0d00-0000-632c62e90000\""
                },
                {
                  "0": "EbwRANPo4RoTAAAAAAAAAA==",
                  "1": "1663853291",
                  "2": "1984",
                  "3": "2022-09-22T15:28:11",
                  "4": "47.45820999145508",
                  "5": "44.72291564941406",
                  "6": "24.867164611816406",
                  "7": "1013.054443359375",
                  "8": "\"020051c6-0000-0d00-0000-632c62eb0000\""
                },
                {
                  "0": "EbwRANPo4RoUAAAAAAAAAA==",
                  "1": "1663853293",
                  "2": "1984",
                  "3": "2022-09-22T15:28:13",
                  "4": "47.47698974609375",
                  "5": "44.71666717529297",
                  "6": "24.806852340698242",
                  "7": "1013.09765625",
                  "8": "\"020052c6-0000-0d00-0000-632c62ed0000\""
                },
                {
                  "0": "EbwRANPo4RoVAAAAAAAAAA==",
                  "1": "1663853295",
                  "2": "1984",
                  "3": "2022-09-22T15:28:15",
                  "4": "47.495765686035156",
                  "5": "44.71041488647461",
                  "6": "24.657657623291016",
                  "7": "1013.062744140625",
                  "8": "\"020053c6-0000-0d00-0000-632c62ef0000\""
                },
                {
                  "0": "EbwRANPo4RoWAAAAAAAAAA==",
                  "1": "1663853298",
                  "2": "1984",
                  "3": "2022-09-22T15:28:17",
                  "4": "47.45820999145508",
                  "5": "44.71041488647461",
                  "6": "24.737016677856445",
                  "7": "1013.051513671875",
                  "8": "\"020054c6-0000-0d00-0000-632c62f20000\""
                },
                {
                  "0": "EbwRANPo4RoXAAAAAAAAAA==",
                  "1": "1663853300",
                  "2": "1984",
                  "3": "2022-09-22T15:28:20",
                  "4": "47.51454162597656",
                  "5": "44.71041488647461",
                  "6": "24.84494400024414",
                  "7": "1013.043701171875",
                  "8": "\"020055c6-0000-0d00-0000-632c62f40000\""
                },
                {
                  "0": "EbwRANPo4RoYAAAAAAAAAA==",
                  "1": "1663853302",
                  "2": "1984",
                  "3": "2022-09-22T15:28:22",
                  "4": "47.495765686035156",
                  "5": "44.70000076293945",
                  "6": "24.565601348876953",
                  "7": "1013.067626953125",
                  "8": "\"020056c6-0000-0d00-0000-632c62f60000\""
                },
                {
                  "0": "EbwRANPo4RoZAAAAAAAAAA==",
                  "1": "1663853304",
                  "2": "1984",
                  "3": "2022-09-22T15:28:24",
                  "4": "47.47698974609375",
                  "5": "44.71041488647461",
                  "6": "24.29895782470703",
                  "7": "1013.047119140625",
                  "8": "\"020057c6-0000-0d00-0000-632c62f80000\""
                }
              ],
              "schema": [
                {
                  "key": "0",
                  "name": "_rid",
                  "type": "string"
                },
                {
                  "key": "1",
                  "name": "_ts",
                  "type": "bigint"
                },
                {
                  "key": "2",
                  "name": "sensorid",
                  "type": "bigint"
                },
                {
                  "key": "3",
                  "name": "id",
                  "type": "string"
                },
                {
                  "key": "4",
                  "name": "temperature_from_humidity",
                  "type": "double"
                },
                {
                  "key": "5",
                  "name": "temperature_from_pressure",
                  "type": "double"
                },
                {
                  "key": "6",
                  "name": "humidity",
                  "type": "double"
                },
                {
                  "key": "7",
                  "name": "pressure",
                  "type": "double"
                },
                {
                  "key": "8",
                  "name": "_etag",
                  "type": "string"
                }
              ],
              "truncated": false
            },
            "isSummary": false,
            "language": "scala"
          },
          "persist_state": {
            "view": {
              "type": "details",
              "tableOptions": {},
              "chartOptions": {
                "chartType": "bar",
                "aggregationType": "sum",
                "categoryFieldKeys": [
                  "0"
                ],
                "seriesFieldKeys": [
                  "1"
                ],
                "isStacked": false
              }
            }
          }
        },
        "c9797979-ba7a-413e-a881-10d38df01ddc": {
          "type": "Synapse.DataFrame",
          "sync_state": {
            "table": {
              "rows": [
                {
                  "0": "1984",
                  "1": "1013.18896484375",
                  "2": "45.21458435058594",
                  "3": "48.04031753540039",
                  "4": "2022-09-22T15:12:37",
                  "5": "24.283084869384766"
                },
                {
                  "0": "1984",
                  "1": "1013.170166015625",
                  "2": "45.204166412353516",
                  "3": "48.07787322998047",
                  "4": "2022-09-22T15:12:40",
                  "5": "24.2195987701416"
                },
                {
                  "0": "1984",
                  "1": "1013.181884765625",
                  "2": "45.202083587646484",
                  "3": "48.00276184082031",
                  "4": "2022-09-22T15:12:42",
                  "5": "24.09579849243164"
                },
                {
                  "0": "1984",
                  "1": "1013.177001953125",
                  "2": "45.20000076293945",
                  "3": "48.11542510986328",
                  "4": "2022-09-22T15:12:44",
                  "5": "24.483070373535156"
                },
                {
                  "0": "1984",
                  "1": "1013.15283203125",
                  "2": "45.202083587646484",
                  "3": "47.983985900878906",
                  "4": "2022-09-22T15:12:46",
                  "5": "23.870420455932617"
                },
                {
                  "0": "1984",
                  "1": "1013.19482421875",
                  "2": "45.20000076293945",
                  "3": "47.965206146240234",
                  "4": "2022-09-22T15:12:48",
                  "5": "24.29578399658203"
                },
                {
                  "0": "1984",
                  "1": "1013.196533203125",
                  "2": "45.18958282470703",
                  "3": "47.927650451660156",
                  "4": "2022-09-22T15:12:50",
                  "5": "24.267213821411133"
                },
                {
                  "0": "1984",
                  "1": "1013.181640625",
                  "2": "45.19166564941406",
                  "3": "48.07787322998047",
                  "4": "2022-09-22T15:12:52",
                  "5": "24.130718231201172"
                },
                {
                  "0": "1984",
                  "1": "1013.16748046875",
                  "2": "45.20000076293945",
                  "3": "48.00276184082031",
                  "4": "2022-09-22T15:12:54",
                  "5": "24.060882568359375"
                },
                {
                  "0": "1984",
                  "1": "1013.178955078125",
                  "2": "45.20000076293945",
                  "3": "47.983985900878906",
                  "4": "2022-09-22T15:12:56",
                  "5": "24.378314971923828"
                }
              ],
              "schema": [
                {
                  "key": "0",
                  "name": "sensorid",
                  "type": "int"
                },
                {
                  "key": "1",
                  "name": "pressure",
                  "type": "double"
                },
                {
                  "key": "2",
                  "name": "temperature_from_pressure",
                  "type": "double"
                },
                {
                  "key": "3",
                  "name": "temperature_from_humidity",
                  "type": "double"
                },
                {
                  "key": "4",
                  "name": "id",
                  "type": "string"
                },
                {
                  "key": "5",
                  "name": "humidity",
                  "type": "double"
                }
              ],
              "truncated": false
            },
            "isSummary": false,
            "language": "scala"
          },
          "persist_state": {
            "view": {
              "type": "details",
              "tableOptions": {},
              "chartOptions": {
                "chartType": "bar",
                "aggregationType": "sum",
                "categoryFieldKeys": [
                  "1"
                ],
                "seriesFieldKeys": [
                  "0"
                ],
                "isStacked": false
              }
            }
          }
        }
      }
    },
    "enableDebugMode": false
  },
  "nbformat": 4,
  "nbformat_minor": 2,
  "cells": [
    {
      "cell_type": "code",
      "metadata": {
        "collapsed": false
      },
      "source": [
        "# Read from Cosmos DB analytical store into a Spark DataFrame and display 10 rows from the DataFrame\n",
        "# To select a preferred list of regions in a multi-region Cosmos DB account, add .option(\"spark.cosmos.preferredRegions\", \"<Region1>,<Region2>\")\n",
        "\n",
        "df = spark.read\\\n",
        "    .format(\"cosmos.olap\")\\\n",
        "    .option(\"spark.synapse.linkedService\", \"CosmosDb Matador\")\\\n",
        "    .option(\"spark.cosmos.container\", \"RaspData2\")\\\n",
        "    .load()\n",
        "\n",
        "display(df.limit(10))"
      ],
      "attachments": null,
      "outputs": [
        {
          "name": null,
          "execution_count": null,
          "output_type": "display_data",
          "text": null,
          "data": {
            "application/vnd.livy.statement-meta+json": {
              "spark_pool": "mysparkpool",
              "session_id": "3",
              "statement_id": 2,
              "state": "finished",
              "livy_statement_state": "available",
              "queued_time": "2022-09-22T13:30:55.1989523Z",
              "session_start_time": "2022-09-22T13:30:55.3146303Z",
              "execution_start_time": "2022-09-22T13:35:20.3695454Z",
              "execution_finish_time": "2022-09-22T13:35:53.8100114Z",
              "spark_jobs": null
            },
            "text/plain": "StatementMeta(mysparkpool, 3, 2, Finished, Available)"
          },
          "metadata": {}
        },
        {
          "name": null,
          "execution_count": null,
          "output_type": "display_data",
          "text": null,
          "data": {
            "application/vnd.synapse.widget-view+json": {
              "widget_id": "ece4f043-bde7-48b0-b599-1ba2c65525c9",
              "widget_type": "Synapse.DataFrame"
            },
            "text/plain": "SynapseWidget(Synapse.DataFrame, ece4f043-bde7-48b0-b599-1ba2c65525c9)"
          },
          "metadata": {}
        }
      ],
      "execution_count": 1
    },
    {
      "cell_type": "code",
      "metadata": {
        "jupyter": {
          "source_hidden": false,
          "outputs_hidden": false
        },
        "nteract": {
          "transient": {
            "deleting": false
          }
        },
        "collapsed": false
      },
      "source": [
        "# Read from Cosmos DB analytical store into a Spark DataFrame and display 10 rows from the DataFrame\r\n",
        "# To select a preferred list of regions in a multi-region Cosmos DB account, add .option(\"spark.cosmos.preferredRegions\", \"<Region1>,<Region2>\")\r\n",
        "\r\n",
        "df = spark.read\\\r\n",
        "    .format(\"cosmos.oltp\")\\\r\n",
        "    .option(\"spark.synapse.linkedService\", \"CosmosDb Matador\")\\\r\n",
        "    .option(\"spark.cosmos.container\", \"RaspData\")\\\r\n",
        "    .load()\r\n",
        "\r\n",
        "display(df.limit(10))"
      ],
      "attachments": null,
      "outputs": [
        {
          "name": null,
          "execution_count": null,
          "output_type": "display_data",
          "text": null,
          "data": {
            "application/vnd.livy.statement-meta+json": {
              "spark_pool": "mysparkpool",
              "session_id": "3",
              "statement_id": 3,
              "state": "finished",
              "livy_statement_state": "available",
              "queued_time": "2022-09-22T13:37:34.9145316Z",
              "session_start_time": null,
              "execution_start_time": "2022-09-22T13:37:35.3690652Z",
              "execution_finish_time": "2022-09-22T13:37:50.1051447Z",
              "spark_jobs": null
            },
            "text/plain": "StatementMeta(mysparkpool, 3, 3, Finished, Available)"
          },
          "metadata": {}
        },
        {
          "name": null,
          "execution_count": null,
          "output_type": "display_data",
          "text": null,
          "data": {
            "application/vnd.synapse.widget-view+json": {
              "widget_id": "c9797979-ba7a-413e-a881-10d38df01ddc",
              "widget_type": "Synapse.DataFrame"
            },
            "text/plain": "SynapseWidget(Synapse.DataFrame, c9797979-ba7a-413e-a881-10d38df01ddc)"
          },
          "metadata": {}
        }
      ],
      "execution_count": 2
    }
  ],
  "entityState": null,
  "renameOperationDetails": null,
  "targetSparkConfiguration": null
}