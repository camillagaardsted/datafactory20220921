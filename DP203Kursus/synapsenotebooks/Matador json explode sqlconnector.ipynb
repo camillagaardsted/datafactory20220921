{
  "description": null,
  "sessionProperties": {
    "driverMemory": "28g",
    "driverCores": 4,
    "executorMemory": "28g",
    "executorCores": 4,
    "numExecutors": 2
  },
  "metadata": {
    "kernelspec": {
      "name": "synapse_pyspark",
      "display_name": "Synapse PySpark"
    },
    "language_info": {
      "name": "python",
      "codemirror_mode": null
    },
    "a365ComputeOptions": {
      "id": "/subscriptions/64e64ad4-c73a-4e76-932e-45cba3506c45/resourceGroups/dk/providers/Microsoft.Synapse/workspaces/synapse20220920/bigDataPools/mysparkpool",
      "name": "mysparkpool",
      "type": "Spark",
      "endpoint": "https://synapse20220920.dev.azuresynapse.net/livyApi/versions/2019-11-01-preview/sparkPools/mysparkpool",
      "auth": {
        "type": "AAD",
        "authResource": "https://dev.azuresynapse.net",
        "authHeader": null
      },
      "sparkVersion": "3.2",
      "nodeCount": 10,
      "cores": 4,
      "memory": 28,
      "extraHeader": null
    },
    "sessionKeepAliveTimeout": 30,
    "saveOutput": true,
    "synapse_widget": {
      "version": "0.1",
      "state": {}
    },
    "enableDebugMode": false
  },
  "nbformat": 4,
  "nbformat_minor": 2,
  "cells": [
    {
      "cell_type": "code",
      "metadata": {
        "microsoft": {
          "language": "python"
        }
      },
      "source": [
        "%%pyspark\r\n",
        "df = spark.read.load('abfss://matador@datalakesu20220919.dfs.core.windows.net/matador_skjern.json', format='json')\r\n",
        "display(df.limit(10))"
      ],
      "attachments": null,
      "outputs": [
        {
          "name": null,
          "execution_count": null,
          "output_type": "display_data",
          "text": null,
          "data": {
            "application/vnd.livy.statement-meta+json": {
              "spark_pool": "mysparkpool",
              "session_id": "0",
              "statement_id": 1,
              "state": "finished",
              "livy_statement_state": "cancelled",
              "queued_time": "2022-09-20T11:25:31.1718033Z",
              "session_start_time": "2022-09-20T11:25:31.2582196Z",
              "execution_start_time": "2022-09-20T11:33:19.4192096Z",
              "execution_finish_time": "2022-09-20T11:33:32.2380872Z",
              "spark_jobs": null
            },
            "text/plain": "StatementMeta(mysparkpool, 0, 1, Finished, Cancelled)"
          },
          "metadata": {}
        }
      ],
      "execution_count": 1
    },
    {
      "cell_type": "code",
      "metadata": {
        "jupyter": {
          "source_hidden": false,
          "outputs_hidden": false
        },
        "nteract": {
          "transient": {
            "deleting": false
          }
        },
        "microsoft": {
          "language": "sparksql"
        },
        "collapsed": false
      },
      "source": [
        "%%sql\r\n",
        "CREATE DATABASE synapsesparkDB"
      ],
      "attachments": null,
      "outputs": [
        {
          "name": null,
          "execution_count": null,
          "output_type": "display_data",
          "text": null,
          "data": {
            "application/vnd.livy.statement-meta+json": {
              "spark_pool": "mysparkpool",
              "session_id": "0",
              "statement_id": 2,
              "state": "finished",
              "livy_statement_state": "available",
              "queued_time": "2022-09-20T11:33:35.8405379Z",
              "session_start_time": null,
              "execution_start_time": "2022-09-20T11:33:37.450499Z",
              "execution_finish_time": "2022-09-20T11:34:09.2777942Z",
              "spark_jobs": null
            },
            "text/plain": "StatementMeta(mysparkpool, 0, 2, Finished, Available)"
          },
          "metadata": {}
        },
        {
          "name": null,
          "execution_count": 2,
          "output_type": "execute_result",
          "text": null,
          "data": {
            "application/vnd.synapse.sparksql-result+json": {
              "schema": {
                "type": "struct",
                "fields": []
              },
              "data": []
            },
            "text/plain": "<Spark SQL result set with 0 rows and 0 fields>"
          },
          "metadata": {}
        }
      ],
      "execution_count": 2
    },
    {
      "cell_type": "code",
      "metadata": {
        "jupyter": {
          "source_hidden": false,
          "outputs_hidden": false
        },
        "nteract": {
          "transient": {
            "deleting": false
          }
        },
        "microsoft": {
          "language": "python"
        }
      },
      "source": [
        "%%pyspark\r\n",
        "df = spark.read.load('abfss://matador@datalakesu20220919.dfs.core.windows.net/matador_skjern.json', format='json')\r\n",
        "display(df.limit(10))"
      ],
      "attachments": null,
      "outputs": [
        {
          "name": null,
          "execution_count": null,
          "output_type": "display_data",
          "text": null,
          "data": {
            "application/vnd.livy.statement-meta+json": {
              "spark_pool": "mysparkpool",
              "session_id": "0",
              "statement_id": 3,
              "state": "finished",
              "livy_statement_state": "available",
              "queued_time": "2022-09-20T11:36:48.6216569Z",
              "session_start_time": "2022-09-20T11:36:48.685189Z",
              "execution_start_time": "2022-09-20T11:36:50.4308882Z",
              "execution_finish_time": "2022-09-20T11:37:02.1025884Z",
              "spark_jobs": null
            },
            "text/plain": "StatementMeta(mysparkpool, 0, 3, Finished, Available)"
          },
          "metadata": {}
        },
        {
          "name": null,
          "execution_count": null,
          "output_type": "error",
          "text": null,
          "data": null,
          "metadata": null
        }
      ],
      "execution_count": 3
    },
    {
      "cell_type": "code",
      "metadata": {
        "jupyter": {
          "source_hidden": false,
          "outputs_hidden": false
        },
        "nteract": {
          "transient": {
            "deleting": false
          }
        },
        "collapsed": false
      },
      "source": [
        "df = spark.read.load('abfss://matador@datalakesu20220919.dfs.core.windows.net/*.json', format='json',multiline=True)\r\n",
        "display(df.limit(10))"
      ],
      "attachments": null,
      "outputs": [
        {
          "name": null,
          "execution_count": null,
          "output_type": "display_data",
          "text": null,
          "data": {
            "application/vnd.livy.statement-meta+json": {
              "spark_pool": null,
              "session_id": null,
              "statement_id": null,
              "state": "finished",
              "livy_statement_state": null,
              "queued_time": "2022-09-20T12:10:58.8874705Z",
              "session_start_time": null,
              "execution_start_time": null,
              "execution_finish_time": "2022-09-20T12:11:00.1791152Z",
              "spark_jobs": null
            },
            "text/plain": "StatementMeta(, , , Finished, )"
          },
          "metadata": {}
        },
        {
          "name": null,
          "execution_count": null,
          "output_type": "error",
          "text": null,
          "data": null,
          "metadata": null
        }
      ],
      "execution_count": 12
    },
    {
      "cell_type": "code",
      "metadata": {
        "jupyter": {
          "source_hidden": false,
          "outputs_hidden": false
        },
        "nteract": {
          "transient": {
            "deleting": false
          }
        }
      },
      "source": [
        "from pyspark.sql.functions import explode\r\n",
        "childrenDF=df.select('lastName',explode('children').alias('childrenflat'))\r\n",
        "childrenDF.show()"
      ],
      "attachments": null,
      "outputs": [
        {
          "name": null,
          "execution_count": null,
          "output_type": "display_data",
          "text": null,
          "data": {
            "application/vnd.livy.statement-meta+json": {
              "spark_pool": "mysparkpool",
              "session_id": "0",
              "statement_id": 5,
              "state": "finished",
              "livy_statement_state": "available",
              "queued_time": "2022-09-20T11:39:20.086798Z",
              "session_start_time": null,
              "execution_start_time": "2022-09-20T11:39:21.1321857Z",
              "execution_finish_time": "2022-09-20T11:39:26.1979843Z",
              "spark_jobs": null
            },
            "text/plain": "StatementMeta(mysparkpool, 0, 5, Finished, Available)"
          },
          "metadata": {}
        },
        {
          "name": "stdout",
          "execution_count": null,
          "output_type": "stream",
          "text": "+---------------+--------------------+\n|       lastName|        childrenflat|\n+---------------+--------------------+\n|Andersen-Skjern|{Ellen, null, fem...|\n|Andersen-Skjern|{Daniel, null, ma...|\n|Andersen-Skjern|{Erik, Astronaut,...|\n|         Varnæs|{Ulrik, null, mal...|\n|         Varnæs|{Regitze, null, f...|\n+---------------+--------------------+\n\n",
          "data": null,
          "metadata": null
        }
      ],
      "execution_count": 5
    },
    {
      "cell_type": "code",
      "metadata": {
        "jupyter": {
          "source_hidden": false,
          "outputs_hidden": false
        },
        "nteract": {
          "transient": {
            "deleting": false
          }
        }
      },
      "source": [
        "newDF=childrenDF.select('lastName', 'childrenflat.firstName','childrenflat.gender','childrenflat.grade','childrenflat.futuredream')\r\n",
        "newDF.show()\r\n",
        ""
      ],
      "attachments": null,
      "outputs": [
        {
          "name": null,
          "execution_count": null,
          "output_type": "display_data",
          "text": null,
          "data": {
            "application/vnd.livy.statement-meta+json": {
              "spark_pool": "mysparkpool",
              "session_id": "0",
              "statement_id": 7,
              "state": "finished",
              "livy_statement_state": "available",
              "queued_time": "2022-09-20T11:40:27.955255Z",
              "session_start_time": null,
              "execution_start_time": "2022-09-20T11:40:41.5029095Z",
              "execution_finish_time": "2022-09-20T11:40:42.7044246Z",
              "spark_jobs": null
            },
            "text/plain": "StatementMeta(mysparkpool, 0, 7, Finished, Available)"
          },
          "metadata": {}
        },
        {
          "name": "stdout",
          "execution_count": null,
          "output_type": "stream",
          "text": "+---------------+---------+------+-----+-----------+\n|       lastName|firstName|gender|grade|futuredream|\n+---------------+---------+------+-----+-----------+\n|Andersen-Skjern|    Ellen|female|    5|       null|\n|Andersen-Skjern|   Daniel|  male|    3|       null|\n|Andersen-Skjern|     Erik|  male|    5|  Astronaut|\n|         Varnæs|    Ulrik|  male|    5|       null|\n|         Varnæs|  Regitze|female|    3|       null|\n+---------------+---------+------+-----+-----------+\n\n",
          "data": null,
          "metadata": null
        }
      ],
      "execution_count": 7
    },
    {
      "cell_type": "code",
      "metadata": {
        "jupyter": {
          "source_hidden": false,
          "outputs_hidden": false
        },
        "nteract": {
          "transient": {
            "deleting": false
          }
        }
      },
      "source": [
        "newDF.write.format(\"parquet\").saveAsTable('synapsesparkdb.matadorChildren')"
      ],
      "attachments": null,
      "outputs": [
        {
          "name": null,
          "execution_count": null,
          "output_type": "display_data",
          "text": null,
          "data": {
            "application/vnd.livy.statement-meta+json": {
              "spark_pool": "mysparkpool",
              "session_id": "0",
              "statement_id": 8,
              "state": "finished",
              "livy_statement_state": "available",
              "queued_time": "2022-09-20T11:41:16.8342226Z",
              "session_start_time": null,
              "execution_start_time": "2022-09-20T11:41:17.6093735Z",
              "execution_finish_time": "2022-09-20T11:41:29.2473311Z",
              "spark_jobs": null
            },
            "text/plain": "StatementMeta(mysparkpool, 0, 8, Finished, Available)"
          },
          "metadata": {}
        }
      ],
      "execution_count": 8
    },
    {
      "cell_type": "code",
      "metadata": {
        "jupyter": {
          "source_hidden": false,
          "outputs_hidden": false
        },
        "nteract": {
          "transient": {
            "deleting": false
          }
        },
        "microsoft": {
          "language": "sparksql"
        },
        "collapsed": false
      },
      "source": [
        "%%sql\r\n",
        "SELECT * FROM synapsesparkdb.matadorChildren"
      ],
      "attachments": null,
      "outputs": [
        {
          "name": null,
          "execution_count": null,
          "output_type": "display_data",
          "text": null,
          "data": {
            "application/vnd.livy.statement-meta+json": {
              "spark_pool": "mysparkpool",
              "session_id": "0",
              "statement_id": 9,
              "state": "finished",
              "livy_statement_state": "available",
              "queued_time": "2022-09-20T11:42:08.7386844Z",
              "session_start_time": null,
              "execution_start_time": "2022-09-20T11:42:09.1780103Z",
              "execution_finish_time": "2022-09-20T11:42:15.3023604Z",
              "spark_jobs": null
            },
            "text/plain": "StatementMeta(mysparkpool, 0, 9, Finished, Available)"
          },
          "metadata": {}
        },
        {
          "name": null,
          "execution_count": 9,
          "output_type": "execute_result",
          "text": null,
          "data": {
            "application/vnd.synapse.sparksql-result+json": {
              "schema": {
                "type": "struct",
                "fields": [
                  {
                    "name": "lastName",
                    "type": "string",
                    "nullable": true,
                    "metadata": {}
                  },
                  {
                    "name": "firstName",
                    "type": "string",
                    "nullable": true,
                    "metadata": {}
                  },
                  {
                    "name": "gender",
                    "type": "string",
                    "nullable": true,
                    "metadata": {}
                  },
                  {
                    "name": "grade",
                    "type": "long",
                    "nullable": true,
                    "metadata": {}
                  },
                  {
                    "name": "futuredream",
                    "type": "string",
                    "nullable": true,
                    "metadata": {}
                  }
                ]
              },
              "data": [
                [
                  "Andersen-Skjern",
                  "Ellen",
                  "female",
                  "5",
                  null
                ],
                [
                  "Andersen-Skjern",
                  "Daniel",
                  "male",
                  "3",
                  null
                ],
                [
                  "Andersen-Skjern",
                  "Erik",
                  "male",
                  "5",
                  "Astronaut"
                ],
                [
                  "Varnæs",
                  "Ulrik",
                  "male",
                  "5",
                  null
                ],
                [
                  "Varnæs",
                  "Regitze",
                  "female",
                  "3",
                  null
                ]
              ]
            },
            "text/plain": "<Spark SQL result set with 5 rows and 5 fields>"
          },
          "metadata": {}
        }
      ],
      "execution_count": 9
    },
    {
      "cell_type": "code",
      "metadata": {
        "jupyter": {
          "source_hidden": false,
          "outputs_hidden": false
        },
        "nteract": {
          "transient": {
            "deleting": false
          }
        },
        "microsoft": {
          "language": "scala"
        }
      },
      "source": [
        "%%spark\r\n",
        "// VI ER I SCALA - den \r\n",
        "// Vi indlæser via Scala\r\n",
        "val dfScala = spark.sql(\"SELECT * FROM synapsesparkdb.matadorchildren\")\r\n",
        "dfScala.show()\r\n",
        ""
      ],
      "attachments": null,
      "outputs": [
        {
          "name": null,
          "execution_count": null,
          "output_type": "display_data",
          "text": null,
          "data": {
            "application/vnd.livy.statement-meta+json": {
              "spark_pool": "mysparkpool",
              "session_id": "0",
              "statement_id": 11,
              "state": "finished",
              "livy_statement_state": "available",
              "queued_time": "2022-09-20T11:44:27.1308501Z",
              "session_start_time": null,
              "execution_start_time": "2022-09-20T11:44:33.3309164Z",
              "execution_finish_time": "2022-09-20T11:44:37.5462506Z",
              "spark_jobs": null
            },
            "text/plain": "StatementMeta(mysparkpool, 0, 11, Finished, Available)"
          },
          "metadata": {}
        },
        {
          "name": "stdout",
          "execution_count": null,
          "output_type": "stream",
          "text": "+---------------+---------+------+-----+-----------+\n|       lastName|firstName|gender|grade|futuredream|\n+---------------+---------+------+-----+-----------+\n|Andersen-Skjern|    Ellen|female|    5|       null|\n|Andersen-Skjern|   Daniel|  male|    3|       null|\n|Andersen-Skjern|     Erik|  male|    5|  Astronaut|\n|         Varnæs|    Ulrik|  male|    5|       null|\n|         Varnæs|  Regitze|female|    3|       null|\n+---------------+---------+------+-----+-----------+\n\ndfScala: org.apache.spark.sql.DataFrame = [lastName: string, firstName: string ... 3 more fields]\n",
          "data": null,
          "metadata": null
        }
      ],
      "execution_count": 10
    },
    {
      "cell_type": "code",
      "metadata": {
        "jupyter": {
          "source_hidden": false,
          "outputs_hidden": false
        },
        "nteract": {
          "transient": {
            "deleting": false
          }
        },
        "microsoft": {
          "language": "scala"
        }
      },
      "source": [
        "%%spark\r\n",
        "// Write the dataframe into your sql pool\r\n",
        "import org.apache.spark.sql.SqlAnalyticsConnector._\r\n",
        "import com.microsoft.spark.sqlanalytics.utils.Constants\r\n",
        "\r\n",
        "val sql_pool_name = \"SQLPool01\" \r\n",
        "\r\n",
        "dfScala.write.sqlanalytics(s\"$sql_pool_name.dbo.MatadorChildren\", Constants.INTERNAL)"
      ],
      "attachments": null,
      "outputs": [
        {
          "name": null,
          "execution_count": null,
          "output_type": "display_data",
          "text": null,
          "data": {
            "application/vnd.livy.statement-meta+json": {
              "spark_pool": "mysparkpool",
              "session_id": "0",
              "statement_id": 12,
              "state": "finished",
              "livy_statement_state": "available",
              "queued_time": "2022-09-20T11:46:18.6972796Z",
              "session_start_time": null,
              "execution_start_time": "2022-09-20T11:46:20.0865685Z",
              "execution_finish_time": "2022-09-20T11:47:11.2687363Z",
              "spark_jobs": null
            },
            "text/plain": "StatementMeta(mysparkpool, 0, 12, Finished, Available)"
          },
          "metadata": {}
        },
        {
          "name": "stdout",
          "execution_count": null,
          "output_type": "stream",
          "text": "import org.apache.spark.sql.SqlAnalyticsConnector._\nimport com.microsoft.spark.sqlanalytics.utils.Constants\nsql_pool_name: String = SQLPool01\nwarning: one deprecation; for details, enable `:setting -deprecation' or `:replay -deprecation'\n",
          "data": null,
          "metadata": null
        }
      ],
      "execution_count": 11
    }
  ],
  "entityState": null,
  "renameOperationDetails": null,
  "targetSparkConfiguration": null
}